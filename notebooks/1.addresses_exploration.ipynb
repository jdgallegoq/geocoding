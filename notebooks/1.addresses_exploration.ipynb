{
 "cells": [
  {
   "cell_type": "code",
   "execution_count": 1,
   "metadata": {},
   "outputs": [],
   "source": [
    "import re\n",
    "import pandas as pd\n",
    "import numpy as np\n",
    "\n",
    "pd.set_option(\"display.max_columns\", None)"
   ]
  },
  {
   "cell_type": "code",
   "execution_count": 2,
   "metadata": {},
   "outputs": [],
   "source": [
    "path = \"../data/Prestadores.csv\"\n",
    "df = pd.read_csv(\n",
    "    path, \n",
    "    encoding='utf8', \n",
    "    sep=';', \n",
    "    index_col=False,\n",
    "    usecols=['depa_nombre', 'muni_nombre', 'nits_nit', 'razon_social', 'direccion']\n",
    ")"
   ]
  },
  {
   "cell_type": "code",
   "execution_count": 3,
   "metadata": {},
   "outputs": [],
   "source": [
    "from geopy.geocoders import Nominatim\n",
    "from geopy.extra.rate_limiter import RateLimiter\n",
    "\n",
    "geolocator = Nominatim(user_agent=\"test\")\n",
    "# need to define a rate_limiter to not break the service. Max 1 call per second.\n",
    "geolocator = RateLimiter(geolocator.geocode, min_delay_seconds=1.1)"
   ]
  },
  {
   "cell_type": "code",
   "execution_count": 4,
   "metadata": {},
   "outputs": [
    {
     "name": "stdout",
     "output_type": "stream",
     "text": [
      "Geopy reuslt:\t Calle 125, Campania, UPZ Niza, Localidad Suba, Bogotá, Bogotá Distrito Capital - Municipio, RAP (Especial) Central, 111121, Colombia\n",
      "Geopy coord:\t 4.7088418 -74.0718151\n",
      "Google coord: \t4.703611878558428, -74.04538972022057\n"
     ]
    }
   ],
   "source": [
    "# using this lambda to parse all addresses from a particular city\n",
    "#geocode = lambda query: geolocator.geocode(\"%s, bogotá colombia\" % query) # without rate limiter\n",
    "geocode = lambda query: geolocator(\"%s, bogotá colombia\" % query) # with rate limiter\n",
    "# geocode by address\n",
    "test_address = geocode(df.direccion.iloc[0])\n",
    "print('Geopy reuslt:\\t',test_address)\n",
    "print('Geopy coord:\\t',test_address.latitude, test_address.longitude)\n",
    "print('Google coord: \\t4.703611878558428, -74.04538972022057')"
   ]
  },
  {
   "cell_type": "markdown",
   "metadata": {},
   "source": [
    "## Standardize addresses"
   ]
  },
  {
   "cell_type": "code",
   "execution_count": 5,
   "metadata": {},
   "outputs": [
    {
     "data": {
      "text/plain": [
       "29                        DIAGONAL 115A No 70C-75 LOCAL 1\n",
       "99                        CL 63 No. 11 - 45 OF. 209 y 213\n",
       "678                                         AK 60 # 63 63\n",
       "1399    TRANSVERSAL 73D AV. 1RA DE MAYO No 38C-41 SUR ...\n",
       "185                                 CL 134 # 7B 83 CS 814\n",
       "914                                 CALLE 17 # 10 16 PI 9\n",
       "1137                       Calle 90 No 19A-49 OFICINA 902\n",
       "906                        Carrera 56 B Bis A # 67 A - 72\n",
       "844            Carrera 7 BIS No. 124 - 26 Oficina 701-702\n",
       "1360    KR 22 # 100 24 piso1 piso3 consultorios 1 2 3 y 7\n",
       "Name: direccion, dtype: object"
      ]
     },
     "execution_count": 5,
     "metadata": {},
     "output_type": "execute_result"
    }
   ],
   "source": [
    "# explore a sample of addresses format\n",
    "df.direccion.sample(10, random_state=42)"
   ]
  },
  {
   "cell_type": "markdown",
   "metadata": {},
   "source": [
    "Several addresses has a part at the end like `local`, `cs`, `pi`, `piso`, `oficina` ... that part must be cleaned."
   ]
  },
  {
   "cell_type": "code",
   "execution_count": 6,
   "metadata": {},
   "outputs": [],
   "source": [
    "import sys\n",
    "sys.path.append('..')\n",
    "from utils.misc_funcs import get_distance, standardize_address"
   ]
  },
  {
   "cell_type": "code",
   "execution_count": 7,
   "metadata": {},
   "outputs": [
    {
     "name": "stdout",
     "output_type": "stream",
     "text": [
      "diagonal 115a #70c-75\n",
      "cl 63 #11 - 45\n",
      "transversal 73d av 1ra de mayo #38c-41 sur\n",
      "kr 22 # 100 24\n"
     ]
    }
   ],
   "source": [
    "# test standardize an address\n",
    "print(standardize_address(df.direccion.iloc[29]))\n",
    "print(standardize_address(df.direccion.iloc[99]))\n",
    "print(standardize_address(df.direccion.iloc[1399]))\n",
    "print(standardize_address(df.direccion.iloc[1360]))"
   ]
  },
  {
   "cell_type": "code",
   "execution_count": 8,
   "metadata": {},
   "outputs": [],
   "source": [
    "# apply function for all addresses\n",
    "df['direccion_std'] = df.direccion.apply(standardize_address)"
   ]
  },
  {
   "cell_type": "markdown",
   "metadata": {},
   "source": [
    "## Create simmulation on new addresses sample"
   ]
  },
  {
   "cell_type": "code",
   "execution_count": 9,
   "metadata": {},
   "outputs": [
    {
     "name": "stderr",
     "output_type": "stream",
     "text": [
      "  0%|          | 0/7 [00:00<?, ?it/s]"
     ]
    },
    {
     "name": "stderr",
     "output_type": "stream",
     "text": [
      "100%|██████████| 7/7 [00:08<00:00,  1.16s/it]\n"
     ]
    }
   ],
   "source": [
    "from tqdm import tqdm\n",
    "\n",
    "# get a sample of addresses\n",
    "claim_address = {\n",
    "    \"claim1\": {\n",
    "        \"address\": \"Cra. 11 #82-71\",\n",
    "        },\n",
    "    \"claim2\": {\n",
    "        \"address\": \"Cra. 15 #124-30\"\n",
    "        },\n",
    "    \"claim3\": {\n",
    "        \"address\": \"Cl. 43 #7-65\"\n",
    "        },\n",
    "    \"claim4\": {\n",
    "        \"address\": \"Cra. 7 #N. 28-66\"\n",
    "        },\n",
    "    \"claim5\": {\n",
    "        \"address\": \"Cra. 6 #15-88\"\n",
    "        },\n",
    "    \"claim6\": {\n",
    "        \"address\": \"Cra. 7 #40 - 62\"\n",
    "        },\n",
    "    \"claim7\": {\n",
    "        \"address\": \"Dg. 61c #26-36\"\n",
    "        }\n",
    "}\n",
    "# get coordinates for all claims addresses\n",
    "for k, a in tqdm(claim_address.items()):\n",
    "    temp_geocode = geocode(standardize_address(a[\"address\"]))\n",
    "    a['coordinates'] = (temp_geocode.latitude, temp_geocode.longitude)"
   ]
  },
  {
   "cell_type": "code",
   "execution_count": 10,
   "metadata": {},
   "outputs": [
    {
     "data": {
      "text/plain": [
       "{'claim1': {'address': 'Cra. 11 #82-71',\n",
       "  'coordinates': (4.5667319, -74.1053956)},\n",
       " 'claim2': {'address': 'Cra. 15 #124-30',\n",
       "  'coordinates': (4.7088075, -74.0424709)},\n",
       " 'claim3': {'address': 'Cl. 43 #7-65',\n",
       "  'coordinates': (4.63014005, -74.06524866353007)},\n",
       " 'claim4': {'address': 'Cra. 7 #N. 28-66',\n",
       "  'coordinates': (4.5564374, -74.121314)},\n",
       " 'claim5': {'address': 'Cra. 6 #15-88',\n",
       "  'coordinates': (4.6691469, -74.0439787)},\n",
       " 'claim6': {'address': 'Cra. 7 #40 - 62',\n",
       "  'coordinates': (4.5564374, -74.121314)},\n",
       " 'claim7': {'address': 'Dg. 61c #26-36',\n",
       "  'coordinates': (4.6474259, -74.0741248)}}"
      ]
     },
     "execution_count": 10,
     "metadata": {},
     "output_type": "execute_result"
    }
   ],
   "source": [
    "# check on dictionary current status\n",
    "claim_address"
   ]
  },
  {
   "cell_type": "code",
   "execution_count": 11,
   "metadata": {},
   "outputs": [
    {
     "name": "stderr",
     "output_type": "stream",
     "text": [
      "  7%|▋         | 7/100 [00:06<01:35,  1.02s/it]RateLimiter caught an error, retrying (0/2 tries). Called with (*('carrera 56 b bis a # 67 a - 72, bogotá colombia',), **{}).\n",
      "Traceback (most recent call last):\n",
      "  File \"/opt/homebrew/Caskroom/miniforge/base/envs/comet/lib/python3.9/site-packages/urllib3/connectionpool.py\", line 466, in _make_request\n",
      "    six.raise_from(e, None)\n",
      "  File \"<string>\", line 3, in raise_from\n",
      "  File \"/opt/homebrew/Caskroom/miniforge/base/envs/comet/lib/python3.9/site-packages/urllib3/connectionpool.py\", line 461, in _make_request\n",
      "    httplib_response = conn.getresponse()\n",
      "  File \"/opt/homebrew/Caskroom/miniforge/base/envs/comet/lib/python3.9/http/client.py\", line 1377, in getresponse\n",
      "    response.begin()\n",
      "  File \"/opt/homebrew/Caskroom/miniforge/base/envs/comet/lib/python3.9/http/client.py\", line 320, in begin\n",
      "    version, status, reason = self._read_status()\n",
      "  File \"/opt/homebrew/Caskroom/miniforge/base/envs/comet/lib/python3.9/http/client.py\", line 281, in _read_status\n",
      "    line = str(self.fp.readline(_MAXLINE + 1), \"iso-8859-1\")\n",
      "  File \"/opt/homebrew/Caskroom/miniforge/base/envs/comet/lib/python3.9/socket.py\", line 704, in readinto\n",
      "    return self._sock.recv_into(b)\n",
      "  File \"/opt/homebrew/Caskroom/miniforge/base/envs/comet/lib/python3.9/ssl.py\", line 1242, in recv_into\n",
      "    return self.read(nbytes, buffer)\n",
      "  File \"/opt/homebrew/Caskroom/miniforge/base/envs/comet/lib/python3.9/ssl.py\", line 1100, in read\n",
      "    return self._sslobj.read(len, buffer)\n",
      "socket.timeout: The read operation timed out\n",
      "\n",
      "During handling of the above exception, another exception occurred:\n",
      "\n",
      "Traceback (most recent call last):\n",
      "  File \"/opt/homebrew/Caskroom/miniforge/base/envs/comet/lib/python3.9/site-packages/urllib3/connectionpool.py\", line 714, in urlopen\n",
      "    httplib_response = self._make_request(\n",
      "  File \"/opt/homebrew/Caskroom/miniforge/base/envs/comet/lib/python3.9/site-packages/urllib3/connectionpool.py\", line 468, in _make_request\n",
      "    self._raise_timeout(err=e, url=url, timeout_value=read_timeout)\n",
      "  File \"/opt/homebrew/Caskroom/miniforge/base/envs/comet/lib/python3.9/site-packages/urllib3/connectionpool.py\", line 357, in _raise_timeout\n",
      "    raise ReadTimeoutError(\n",
      "urllib3.exceptions.ReadTimeoutError: HTTPSConnectionPool(host='nominatim.openstreetmap.org', port=443): Read timed out. (read timeout=1)\n",
      "\n",
      "During handling of the above exception, another exception occurred:\n",
      "\n",
      "Traceback (most recent call last):\n",
      "  File \"/opt/homebrew/Caskroom/miniforge/base/envs/comet/lib/python3.9/site-packages/requests/adapters.py\", line 486, in send\n",
      "    resp = conn.urlopen(\n",
      "  File \"/opt/homebrew/Caskroom/miniforge/base/envs/comet/lib/python3.9/site-packages/urllib3/connectionpool.py\", line 826, in urlopen\n",
      "    return self.urlopen(\n",
      "  File \"/opt/homebrew/Caskroom/miniforge/base/envs/comet/lib/python3.9/site-packages/urllib3/connectionpool.py\", line 826, in urlopen\n",
      "    return self.urlopen(\n",
      "  File \"/opt/homebrew/Caskroom/miniforge/base/envs/comet/lib/python3.9/site-packages/urllib3/connectionpool.py\", line 798, in urlopen\n",
      "    retries = retries.increment(\n",
      "  File \"/opt/homebrew/Caskroom/miniforge/base/envs/comet/lib/python3.9/site-packages/urllib3/util/retry.py\", line 592, in increment\n",
      "    raise MaxRetryError(_pool, url, error or ResponseError(cause))\n",
      "urllib3.exceptions.MaxRetryError: HTTPSConnectionPool(host='nominatim.openstreetmap.org', port=443): Max retries exceeded with url: /search?q=carrera+56+b+bis+a+%23+67+a+-+72%2C+bogot%C3%A1+colombia&format=json&limit=1 (Caused by ReadTimeoutError(\"HTTPSConnectionPool(host='nominatim.openstreetmap.org', port=443): Read timed out. (read timeout=1)\"))\n",
      "\n",
      "During handling of the above exception, another exception occurred:\n",
      "\n",
      "Traceback (most recent call last):\n",
      "  File \"/opt/homebrew/Caskroom/miniforge/base/envs/comet/lib/python3.9/site-packages/geopy/adapters.py\", line 457, in _request\n",
      "    resp = self.session.get(url, timeout=timeout, headers=headers)\n",
      "  File \"/opt/homebrew/Caskroom/miniforge/base/envs/comet/lib/python3.9/site-packages/requests/sessions.py\", line 602, in get\n",
      "    return self.request(\"GET\", url, **kwargs)\n",
      "  File \"/opt/homebrew/Caskroom/miniforge/base/envs/comet/lib/python3.9/site-packages/requests/sessions.py\", line 589, in request\n",
      "    resp = self.send(prep, **send_kwargs)\n",
      "  File \"/opt/homebrew/Caskroom/miniforge/base/envs/comet/lib/python3.9/site-packages/requests/sessions.py\", line 703, in send\n",
      "    r = adapter.send(request, **kwargs)\n",
      "  File \"/opt/homebrew/Caskroom/miniforge/base/envs/comet/lib/python3.9/site-packages/requests/adapters.py\", line 519, in send\n",
      "    raise ConnectionError(e, request=request)\n",
      "requests.exceptions.ConnectionError: HTTPSConnectionPool(host='nominatim.openstreetmap.org', port=443): Max retries exceeded with url: /search?q=carrera+56+b+bis+a+%23+67+a+-+72%2C+bogot%C3%A1+colombia&format=json&limit=1 (Caused by ReadTimeoutError(\"HTTPSConnectionPool(host='nominatim.openstreetmap.org', port=443): Read timed out. (read timeout=1)\"))\n",
      "\n",
      "During handling of the above exception, another exception occurred:\n",
      "\n",
      "Traceback (most recent call last):\n",
      "  File \"/opt/homebrew/Caskroom/miniforge/base/envs/comet/lib/python3.9/site-packages/geopy/extra/rate_limiter.py\", line 136, in _retries_gen\n",
      "    yield i  # Run the function.\n",
      "  File \"/opt/homebrew/Caskroom/miniforge/base/envs/comet/lib/python3.9/site-packages/geopy/extra/rate_limiter.py\", line 274, in __call__\n",
      "    res = self.func(*args, **kwargs)\n",
      "  File \"/opt/homebrew/Caskroom/miniforge/base/envs/comet/lib/python3.9/site-packages/geopy/geocoders/nominatim.py\", line 297, in geocode\n",
      "    return self._call_geocoder(url, callback, timeout=timeout)\n",
      "  File \"/opt/homebrew/Caskroom/miniforge/base/envs/comet/lib/python3.9/site-packages/geopy/geocoders/base.py\", line 368, in _call_geocoder\n",
      "    result = self.adapter.get_json(url, timeout=timeout, headers=req_headers)\n",
      "  File \"/opt/homebrew/Caskroom/miniforge/base/envs/comet/lib/python3.9/site-packages/geopy/adapters.py\", line 447, in get_json\n",
      "    resp = self._request(url, timeout=timeout, headers=headers)\n",
      "  File \"/opt/homebrew/Caskroom/miniforge/base/envs/comet/lib/python3.9/site-packages/geopy/adapters.py\", line 469, in _request\n",
      "    raise GeocoderUnavailable(message)\n",
      "geopy.exc.GeocoderUnavailable: HTTPSConnectionPool(host='nominatim.openstreetmap.org', port=443): Max retries exceeded with url: /search?q=carrera+56+b+bis+a+%23+67+a+-+72%2C+bogot%C3%A1+colombia&format=json&limit=1 (Caused by ReadTimeoutError(\"HTTPSConnectionPool(host='nominatim.openstreetmap.org', port=443): Read timed out. (read timeout=1)\"))\n"
     ]
    }
   ],
   "source": [
    "# take a sample of 100 providers\n",
    "df_sample = df.sample(100, random_state=42)\n",
    "# get coordinates for that samples providers\n",
    "sample_coord = []\n",
    "for a in tqdm(df_sample.direccion_std):\n",
    "    temp_geocode = geocode(a)\n",
    "    try:\n",
    "        sample_coord.append((temp_geocode.latitude, temp_geocode.longitude))\n",
    "    except AttributeError:\n",
    "        sample_coord.append(np.nan)"
   ]
  },
  {
   "cell_type": "code",
   "execution_count": null,
   "metadata": {},
   "outputs": [],
   "source": []
  }
 ],
 "metadata": {
  "kernelspec": {
   "display_name": "comet",
   "language": "python",
   "name": "python3"
  },
  "language_info": {
   "codemirror_mode": {
    "name": "ipython",
    "version": 3
   },
   "file_extension": ".py",
   "mimetype": "text/x-python",
   "name": "python",
   "nbconvert_exporter": "python",
   "pygments_lexer": "ipython3",
   "version": "3.9.16"
  },
  "orig_nbformat": 4
 },
 "nbformat": 4,
 "nbformat_minor": 2
}
