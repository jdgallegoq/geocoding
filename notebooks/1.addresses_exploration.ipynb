{
 "cells": [
  {
   "cell_type": "code",
   "execution_count": 1,
   "metadata": {},
   "outputs": [],
   "source": [
    "import re\n",
    "import pandas as pd\n",
    "import numpy as np\n",
    "\n",
    "pd.set_option(\"display.max_columns\", None)"
   ]
  },
  {
   "cell_type": "code",
   "execution_count": 2,
   "metadata": {},
   "outputs": [],
   "source": [
    "path = \"../data/Prestadores.csv\"\n",
    "df = pd.read_csv(\n",
    "    path, \n",
    "    encoding='utf8', \n",
    "    sep=';', \n",
    "    index_col=False,\n",
    "    usecols=['depa_nombre', 'muni_nombre', 'nits_nit', 'razon_social', 'direccion']\n",
    ")"
   ]
  },
  {
   "cell_type": "code",
   "execution_count": 3,
   "metadata": {},
   "outputs": [],
   "source": [
    "from geopy.geocoders import Nominatim\n",
    "\n",
    "geolocator = Nominatim(user_agent=\"test\")"
   ]
  },
  {
   "cell_type": "code",
   "execution_count": 4,
   "metadata": {},
   "outputs": [
    {
     "name": "stdout",
     "output_type": "stream",
     "text": [
      "Geopy reuslt:\t Calle 125, Campania, UPZ Niza, Localidad Suba, Bogotá, Bogotá Distrito Capital - Municipio, RAP (Especial) Central, 111121, Colombia\n",
      "Geopy coord:\t 4.7088418 -74.0718151\n",
      "Google coord: \t4.703611878558428, -74.04538972022057\n"
     ]
    }
   ],
   "source": [
    "# using this lambda to parse all addresses from a particular city\n",
    "geocode = lambda query: geolocator.geocode(\"%s, bogotá colombia\" % query)\n",
    "# geocode by address\n",
    "test_address = geocode(df.direccion.iloc[0])\n",
    "print('Geopy reuslt:\\t',test_address)\n",
    "print('Geopy coord:\\t',test_address.latitude, test_address.longitude)\n",
    "print('Google coord: \\t4.703611878558428, -74.04538972022057')"
   ]
  },
  {
   "cell_type": "markdown",
   "metadata": {},
   "source": [
    "## Standardize addresses"
   ]
  },
  {
   "cell_type": "code",
   "execution_count": 5,
   "metadata": {},
   "outputs": [
    {
     "data": {
      "text/plain": [
       "29                        DIAGONAL 115A No 70C-75 LOCAL 1\n",
       "99                        CL 63 No. 11 - 45 OF. 209 y 213\n",
       "678                                         AK 60 # 63 63\n",
       "1399    TRANSVERSAL 73D AV. 1RA DE MAYO No 38C-41 SUR ...\n",
       "185                                 CL 134 # 7B 83 CS 814\n",
       "914                                 CALLE 17 # 10 16 PI 9\n",
       "1137                       Calle 90 No 19A-49 OFICINA 902\n",
       "906                        Carrera 56 B Bis A # 67 A - 72\n",
       "844            Carrera 7 BIS No. 124 - 26 Oficina 701-702\n",
       "1360    KR 22 # 100 24 piso1 piso3 consultorios 1 2 3 y 7\n",
       "Name: direccion, dtype: object"
      ]
     },
     "execution_count": 5,
     "metadata": {},
     "output_type": "execute_result"
    }
   ],
   "source": [
    "# explore a sample of addresses format\n",
    "df.direccion.sample(10, random_state=42)"
   ]
  },
  {
   "cell_type": "markdown",
   "metadata": {},
   "source": [
    "Several addresses has a part at the end like `local`, `cs`, `pi`, `piso`, `oficina` ... that part must be cleaned."
   ]
  },
  {
   "cell_type": "code",
   "execution_count": 6,
   "metadata": {},
   "outputs": [],
   "source": [
    "import sys\n",
    "sys.path.append('..')\n",
    "from utils.misc_funcs import get_distance, standardize_address"
   ]
  },
  {
   "cell_type": "code",
   "execution_count": 7,
   "metadata": {},
   "outputs": [
    {
     "name": "stdout",
     "output_type": "stream",
     "text": [
      "diagonal 115a #70c-75\n",
      "cl 63 #11 - 45\n",
      "transversal 73d av 1ra de mayo #38c-41 sur\n",
      "kr 22 # 100 24\n"
     ]
    }
   ],
   "source": [
    "# test standardize an address\n",
    "print(standardize_address(df.direccion.iloc[29]))\n",
    "print(standardize_address(df.direccion.iloc[99]))\n",
    "print(standardize_address(df.direccion.iloc[1399]))\n",
    "print(standardize_address(df.direccion.iloc[1360]))"
   ]
  },
  {
   "cell_type": "code",
   "execution_count": null,
   "metadata": {},
   "outputs": [],
   "source": []
  }
 ],
 "metadata": {
  "kernelspec": {
   "display_name": "comet",
   "language": "python",
   "name": "python3"
  },
  "language_info": {
   "codemirror_mode": {
    "name": "ipython",
    "version": 3
   },
   "file_extension": ".py",
   "mimetype": "text/x-python",
   "name": "python",
   "nbconvert_exporter": "python",
   "pygments_lexer": "ipython3",
   "version": "3.9.16"
  },
  "orig_nbformat": 4
 },
 "nbformat": 4,
 "nbformat_minor": 2
}
