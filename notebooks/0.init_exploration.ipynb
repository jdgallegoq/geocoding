{
 "cells": [
  {
   "attachments": {},
   "cell_type": "markdown",
   "metadata": {},
   "source": [
    "# Geopy exploration\n",
    "Perform operations for feature engineering using geographic locations and addresses."
   ]
  },
  {
   "cell_type": "code",
   "execution_count": 1,
   "metadata": {},
   "outputs": [],
   "source": [
    "# Nominatim is a geocoder from OpenStreetMap\n",
    "from geopy.geocoders import Nominatim"
   ]
  },
  {
   "cell_type": "code",
   "execution_count": 2,
   "metadata": {},
   "outputs": [],
   "source": [
    "# create geocoder object\n",
    "geolocator = Nominatim(user_agent='experiment')"
   ]
  },
  {
   "cell_type": "code",
   "execution_count": 3,
   "metadata": {},
   "outputs": [
    {
     "name": "stdout",
     "output_type": "stream",
     "text": [
      "38.897699700000004 -77.03655315\n"
     ]
    }
   ],
   "source": [
    "# geocode an address\n",
    "test_address = \"1600 Pennsylvania Ave NW, Washington, DC 20500\"\n",
    "location = geolocator.geocode(test_address)\n",
    "print(location.latitude, location.longitude)"
   ]
  },
  {
   "cell_type": "code",
   "execution_count": 7,
   "metadata": {},
   "outputs": [
    {
     "name": "stdout",
     "output_type": "stream",
     "text": [
      "True coordinates: 5.058536847796866, -75.48085823371233\n",
      "Geopy coordinates: 7.8373142, -75.4134266\n"
     ]
    }
   ],
   "source": [
    "# test with other address\n",
    "test_address = \"carrera 17 #64A-236, manizales\"\n",
    "location = geolocator.geocode(test_address)\n",
    "print(\"True coordinates: {}, {}\".format(5.058536847796866, -75.48085823371233))\n",
    "print(\"Geopy coordinates: {}, {}\".format(location.latitude, location.longitude))"
   ]
  },
  {
   "attachments": {},
   "cell_type": "markdown",
   "metadata": {},
   "source": [
    "Looking for a random address and comparing with google maps coordinates, seems pretty decent for an open source."
   ]
  },
  {
   "attachments": {},
   "cell_type": "markdown",
   "metadata": {},
   "source": [
    "# Performing operations on geolocations\n",
    "it seems geopy has a function that gets the distance between two coordinated"
   ]
  },
  {
   "cell_type": "code",
   "execution_count": 10,
   "metadata": {},
   "outputs": [],
   "source": [
    "import geopy.distance"
   ]
  },
  {
   "cell_type": "code",
   "execution_count": 26,
   "metadata": {},
   "outputs": [
    {
     "data": {
      "text/plain": [
       "307028.4327125413"
      ]
     },
     "execution_count": 26,
     "metadata": {},
     "output_type": "execute_result"
    }
   ],
   "source": [
    "# test with other address\n",
    "test_address1 = \"carrera 17 #64A-236, manizales\"\n",
    "test_address2 = \"av. Santander # 65-11, manizales\"\n",
    "location1_lat, location1_lon  = geolocator.geocode(test_address1).latitude, geolocator.geocode(test_address1).longitude\n",
    "location2_lat, location2_lon  = geolocator.geocode(test_address2).latitude, geolocator.geocode(test_address2).longitude\n",
    "\n",
    "print((location1_lat, location1_lon))\n",
    "print((location2_lat, location2_lon))\n",
    "\n",
    "geopy.distance.geodesic(\n",
    "    (location1_lat, location1_lon), \n",
    "    (location2_lat, location2_lon) \n",
    ").meters"
   ]
  },
  {
   "attachments": {},
   "cell_type": "markdown",
   "metadata": {},
   "source": [
    "Answer must be ~1.2km"
   ]
  },
  {
   "cell_type": "code",
   "execution_count": 25,
   "metadata": {},
   "outputs": [
    {
     "name": "stdout",
     "output_type": "stream",
     "text": [
      "(7.8373142, -75.4134266)\n",
      "(5.0621462, -75.4931847)\n"
     ]
    }
   ],
   "source": []
  },
  {
   "cell_type": "code",
   "execution_count": null,
   "metadata": {},
   "outputs": [],
   "source": []
  }
 ],
 "metadata": {
  "kernelspec": {
   "display_name": "comet",
   "language": "python",
   "name": "python3"
  },
  "language_info": {
   "codemirror_mode": {
    "name": "ipython",
    "version": 3
   },
   "file_extension": ".py",
   "mimetype": "text/x-python",
   "name": "python",
   "nbconvert_exporter": "python",
   "pygments_lexer": "ipython3",
   "version": "3.9.16"
  },
  "orig_nbformat": 4
 },
 "nbformat": 4,
 "nbformat_minor": 2
}
